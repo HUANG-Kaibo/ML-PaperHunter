{
 "cells": [
  {
   "cell_type": "markdown",
   "id": "cdcb8f3c",
   "metadata": {},
   "source": [
    "# Crawl dataset with all submissions info\n",
    "OpenReview Venue Crawling"
   ]
  },
  {
   "cell_type": "code",
   "execution_count": null,
   "id": "b15b9499",
   "metadata": {},
   "outputs": [],
   "source": [
    "%load_ext autoreload\n",
    "%autoreload 2\n",
    "\n",
    "import time\n",
    "import pandas as pd\n",
    "from multiprocessing import Pool\n",
    "from tqdm import tqdm\n",
    "from tqdm.notebook import tqdm\n",
    "import requests\n",
    "import openreview\n",
    "import json\n",
    "import numpy as np\n",
    "import os\n",
    "from get_paper_data import get_paper_data_multi\n",
    "import json\n",
    "os.environ['ALL_PROXY']='http://127.0.0.1:7890'"
   ]
  },
  {
   "cell_type": "markdown",
   "id": "ba524d57",
   "metadata": {
    "tags": []
   },
   "source": [
    "## Crawl list of all submissions\n",
    "Here we scrape the _notes_ , (list of all submissions) using OpenReview's API, way faster than Selenium-based scraping.\n"
   ]
  },
  {
   "cell_type": "code",
   "execution_count": null,
   "id": "73cb2a83-d24e-4282-9867-fd161e5395e1",
   "metadata": {},
   "outputs": [],
   "source": [
    "client = openreview.api.OpenReviewClient(\n",
    "    baseurl='https://api2.openreview.net',\n",
    "    username=\"\",\n",
    "    password=\"\"\n",
    ")"
   ]
  },
  {
   "cell_type": "code",
   "execution_count": null,
   "id": "f06f7554-8a38-455d-815b-be541e83e4a5",
   "metadata": {},
   "outputs": [],
   "source": [
    "venue_id = 'ICLR.cc/2024/Conference'\n",
    "venue_group = client.get_group(venue_id)\n",
    "submission_name = venue_group.content['submission_name']['value']\n",
    "submissions = client.get_all_notes(invitation=f'{venue_id}/-/{submission_name}', details='directReplies')"
   ]
  },
  {
   "cell_type": "code",
   "execution_count": null,
   "id": "a5bb8ac8",
   "metadata": {},
   "outputs": [],
   "source": [
    "decisions = []\n",
    "venue_group_settings = client.get_group(venue_id).content\n",
    "decision_invitation_name = venue_group_settings['decision_name']['value']\n",
    "for submission in submissions:\n",
    "    for reply in submission.details['directReplies']:\n",
    "        if any(invitation.endswith(f'/-/{decision_invitation_name}') for invitation in reply['invitations']):\n",
    "            decisions.append(reply)"
   ]
  },
  {
   "cell_type": "code",
   "execution_count": null,
   "id": "7eb69482",
   "metadata": {},
   "outputs": [],
   "source": [
    "sub = submissions[1]\n",
    "print(dir(sub))"
   ]
  },
  {
   "cell_type": "code",
   "execution_count": null,
   "id": "ef96192e",
   "metadata": {},
   "outputs": [],
   "source": [
    "for prop in dir(sub):\n",
    "    if '_' not in prop:\n",
    "        value = getattr(sub, prop)\n",
    "        if isinstance(value, dict):\n",
    "            print(prop, value.keys())\n",
    "        else:\n",
    "            print(prop, value)"
   ]
  },
  {
   "cell_type": "code",
   "execution_count": null,
   "id": "2cad9934-5f7d-4fc2-b165-8ecbbd6c0269",
   "metadata": {},
   "outputs": [],
   "source": [
    "def submission2note(submission, idx):\n",
    "    # review_keys=['summary', 'strengths', 'weaknesses', 'questions']\n",
    "    # total_replies = submission.details[\"directReplies\"]\n",
    "    rating_replies = [reply for reply in submission.details[\"directReplies\"] if \"rating\" in reply[\"content\"]]\n",
    "    reply = 'no decision'\n",
    "    for rep in submission.details['directReplies']:\n",
    "        if any(invitation.endswith(f'/-/{decision_invitation_name}') for invitation in rep['invitations']):\n",
    "            reply = rep['content']['decision']['value']\n",
    "    ratings = [\n",
    "            int(reply[\"content\"][\"rating\"][\"value\"][0])\n",
    "            for reply in rating_replies\n",
    "    ]\n",
    "    rating = \"{:.2f}\".format(sum(ratings) / len(ratings) if len(ratings) > 0 else 0.)\n",
    "    variance = \"{:.2f}\".format(sum([(float(rating) - r) ** 2 for r in ratings]) / len(ratings) if len(ratings) > 1 else 0.)\n",
    "    authors = submission.content[\"authors\"][\"value\"] if \"authors\" in submission.content else []\n",
    "    note = {\n",
    "        \"id\": submission.id,\n",
    "        \"decision\": reply,\n",
    "        \"authors\": authors,\n",
    "        \"emails\": [],\n",
    "        \"rank\": idx,\n",
    "        \"title\": submission.content[\"title\"][\"value\"],\n",
    "        \"keywords\": submission.content[\"keywords\"][\"value\"],\n",
    "        \"ratings\": ratings,\n",
    "        \"rating\": rating,\n",
    "        \"confidences\":\n",
    "        [\n",
    "            int(reply[\"content\"][\"confidence\"][\"value\"][0])\n",
    "            for reply in rating_replies\n",
    "        ],\n",
    "        \"variance\": variance,\n",
    "        \"withdraw\": 1 if \"Withdrawn\" in submission.content[\"venue\"][\"value\"] else 0,\n",
    "        # \"review_lengths\": [\n",
    "        #     sum([len(reply[\"content\"][key][\"value\"].split()) for key in review_keys])\n",
    "        #     for reply in rating_replies\n",
    "        # ],\n",
    "        \"abstract\": submission.content[\"abstract\"][\"value\"],\n",
    "        # \"comments\": len(total_replies),\n",
    "        \"url\": f\"https://openreview.net/forum?id={submission.id}\",\n",
    "\n",
    "    }\n",
    "    return note"
   ]
  },
  {
   "cell_type": "code",
   "execution_count": null,
   "id": "d90bd8c7-0342-4433-9eaf-7d5686c4ad8a",
   "metadata": {},
   "outputs": [],
   "source": [
    "notes = [submission2note(submission, idx) for idx, submission in enumerate(submissions)]\n",
    "with open('OpenreviewExplorer/data/iclr2024.json', 'w') as f:\n",
    "    json.dump(notes, f)"
   ]
  }
 ],
 "metadata": {
  "kernelspec": {
   "display_name": "Python 3 (ipykernel)",
   "language": "python",
   "name": "python3"
  },
  "language_info": {
   "codemirror_mode": {
    "name": "ipython",
    "version": 3
   },
   "file_extension": ".py",
   "mimetype": "text/x-python",
   "name": "python",
   "nbconvert_exporter": "python",
   "pygments_lexer": "ipython3",
   "version": "3.11.5"
  },
  "vscode": {
   "interpreter": {
    "hash": "767d51c1340bd893661ea55ea3124f6de3c7a262a8b4abca0554b478b1e2ff90"
   }
  }
 },
 "nbformat": 4,
 "nbformat_minor": 5
}
